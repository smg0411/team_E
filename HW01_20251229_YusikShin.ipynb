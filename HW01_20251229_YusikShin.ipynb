{
 "cells": [
  {
   "cell_type": "markdown",
   "metadata": {},
   "source": [
    "### HOMEWORK 01"
   ]
  },
  {
   "cell_type": "markdown",
   "metadata": {},
   "source": [
    "### 1.1 The IMDB dataset\n",
    "---\n",
    "We'll be working with \"IMDB dataset\", a set of 50,000 highly-polarized reviews from the Internet Movie Database. They are split into 25,000 reviews for training and 25,000 reviews for testing, each set consisting in 50% negative and 50% positive reviews"
   ]
  },
  {
   "cell_type": "markdown",
   "metadata": {},
   "source": [
    "### 1. Data Load"
   ]
  },
  {
   "cell_type": "code",
   "execution_count": 4,
   "metadata": {},
   "outputs": [
    {
     "name": "stdout",
     "output_type": "stream",
     "text": [
      "(1, 'I rented I AM CURIOUS-YELLOW from my video store because of all the controversy that surrounded it when it was first released in 1967. I also heard that at first it was seized by U.S. customs if it ever tried to enter this country, therefore being a fan of films considered \"controversial\" I really had to see this for myself.<br /><br />The plot is centered around a young Swedish drama student named Lena who wants to learn everything she can about life. In particular she wants to focus her attentions to making some sort of documentary on what the average Swede thought about certain political issues such as the Vietnam War and race issues in the United States. In between asking politicians and ordinary denizens of Stockholm about their opinions on politics, she has sex with her drama teacher, classmates, and married men.<br /><br />What kills me about I AM CURIOUS-YELLOW is that 40 years ago, this was considered pornographic. Really, the sex and nudity scenes are few and far between, even then it\\'s not shot like some cheaply made porno. While my countrymen mind find it shocking, in reality sex and nudity are a major staple in Swedish cinema. Even Ingmar Bergman, arguably their answer to good old boy John Ford, had sex scenes in his films.<br /><br />I do commend the filmmakers for the fact that any sex shown in the film is shown for artistic purposes rather than just to shock people and make money to be shown in pornographic theaters in America. I AM CURIOUS-YELLOW is a good film for anyone wanting to study the meat and potatoes (no pun intended) of Swedish cinema. But really, this film doesn\\'t have much of a plot.')\n",
      "1294\n"
     ]
    }
   ],
   "source": [
    "from torchtext.datasets import IMDB\n",
    "\n",
    "trainset = IMDB('./data', split='train')\n",
    "testset = IMDB('./data', split='test')\n",
    "\n",
    "train_iter = iter(IMDB(split='train'))\n",
    "print(next(train_iter))\n",
    "print(len(next(train_iter)[1])) # print the length of the sentence"
   ]
  },
  {
   "cell_type": "code",
   "execution_count": 5,
   "metadata": {},
   "outputs": [
    {
     "name": "stdout",
     "output_type": "stream",
     "text": [
      "[131, 9, 40, 464]\n",
      "[131, 9, 40, 464]\n",
      "3\n"
     ]
    }
   ],
   "source": [
    "from torchtext.data.utils import get_tokenizer\n",
    "from torchtext.vocab import build_vocab_from_iterator\n",
    "\n",
    "tokenizer = get_tokenizer('basic_english')\n",
    "\n",
    "def yield_tokens(data_iter):\n",
    "    for _, text in data_iter:\n",
    "        yield tokenizer(text)\n",
    "\n",
    "vocab = build_vocab_from_iterator(yield_tokens(trainset), specials=[\"<unk>\"], min_freq=50)\n",
    "vocab.set_default_index(vocab[\"<unk>\"])\n",
    "\n",
    "print(vocab(['here', 'is', 'an', 'example']))\n",
    "\n",
    "# text_pipeline = lambda x: vocab(tokenizer(x))\n",
    "# print(text_pipeline('here is an example'))\n",
    "\n",
    "text_pipeline = lambda x: vocab(tokenizer(x))\n",
    "label_pipeline = lambda x: int(x) - 1\n",
    "\n",
    "print(text_pipeline('here is an example'))\n",
    "print(label_pipeline('4'))"
   ]
  },
  {
   "cell_type": "markdown",
   "metadata": {},
   "source": [
    "### 2. Data Setting"
   ]
  },
  {
   "cell_type": "code",
   "execution_count": 6,
   "metadata": {},
   "outputs": [
    {
     "name": "stdout",
     "output_type": "stream",
     "text": [
      "cuda\n",
      "25000\n",
      "25000\n"
     ]
    }
   ],
   "source": [
    "import torch\n",
    "import numpy as np\n",
    "\n",
    "from torch.utils.data import DataLoader\n",
    "from torch.utils.data.dataset import random_split\n",
    "from torchtext.data.functional import to_map_style_dataset\n",
    "\n",
    "device = torch.device(\"cuda\" if torch.cuda.is_available() else \"cpu\")\n",
    "\n",
    "print(device)\n",
    "\n",
    "def vectorize_sequences(sequences, dimension=10000):\n",
    "    results = np.zeros((len(sequences), dimension))\n",
    "    for i, sequence in enumerate(sequences):\n",
    "        if sequence<10000:\n",
    "            results[i, sequence] = 1.  # set specific indices of results[i] to 1s\n",
    "    return results\n",
    "\n",
    "\n",
    "def collate_batch(batch):\n",
    "    label_list, text_list, offsets = [], [], [0]\n",
    "    for (_label, _text) in batch:\n",
    "         label_list.append(label_pipeline(_label))\n",
    "         processed_text = text_pipeline(_text)\n",
    "         processed_text = torch.tensor(vectorize_sequences(processed_text))\n",
    "         processed_text = torch.sum(processed_text, dim=0)\n",
    "         processed_text = torch.where(processed_text>0, torch.ones_like(processed_text), torch.zeros_like(processed_text))\n",
    "         text_list.append(processed_text.view(-1, 10000))\n",
    "         offsets.append(processed_text.size(0))\n",
    "    label_list = torch.tensor(label_list, dtype=torch.int64)\n",
    "    offsets = torch.tensor(offsets[:-1]).cumsum(dim=0)\n",
    "    text_list = torch.cat(text_list, dim=0).float()\n",
    "    return label_list.to(device), text_list.to(device)#, offsets.to(device)\n",
    "\n",
    "train_dataset = to_map_style_dataset(trainset)\n",
    "test_dataset = to_map_style_dataset(testset)\n",
    "print(len(train_dataset))\n",
    "print(len(test_dataset))\n",
    "\n",
    "split_train_, split_valid_ = \\\n",
    "    random_split(train_dataset, [20000, 5000])\n",
    "\n",
    "train_dataloader = DataLoader(split_train_, batch_size=128,\n",
    "                              shuffle=True, collate_fn=collate_batch)\n",
    "valid_dataloader = DataLoader(split_valid_, batch_size=128,\n",
    "                              shuffle=False, collate_fn=collate_batch)\n",
    "test_dataloader = DataLoader(test_dataset, batch_size=128,\n",
    "                             shuffle=False, collate_fn=collate_batch)"
   ]
  },
  {
   "cell_type": "markdown",
   "metadata": {},
   "source": [
    "### 3. Building Model"
   ]
  },
  {
   "cell_type": "code",
   "execution_count": 45,
   "metadata": {},
   "outputs": [],
   "source": [
    "import torch\n",
    "import torch.nn as nn\n",
    "\n",
    "class Model(nn.Module):\n",
    "    def __init__(self):\n",
    "        super().__init__()\n",
    "        self.fc1 = nn.Linear(10000, 1024)   # ← 입력 10000\n",
    "        self.bn1 = nn.BatchNorm1d(1024)\n",
    "        self.act1 = nn.ReLU()\n",
    "\n",
    "        self.fc2 = nn.Linear(1024, 256)\n",
    "        self.bn2 = nn.BatchNorm1d(256)\n",
    "        self.act2 = nn.ReLU()\n",
    "        self.dropout = nn.Dropout(0.3)\n",
    "\n",
    "        self.fc3 = nn.Linear(256, 64)\n",
    "        self.bn3 = nn.BatchNorm1d(64)\n",
    "        self.act3 = nn.ReLU()\n",
    "\n",
    "        self.fc4 = nn.Linear(64, 1)\n",
    "        self.act4 = nn.Sigmoid()   \n",
    "        self.dropout = nn.Dropout(0.3)\n",
    "        \n",
    "    def forward(self, x):\n",
    "        x = self.dropout(self.act1(self.bn1(self.fc1(x))))\n",
    "        x = self.dropout(self.act2(self.bn2(self.fc2(x))))\n",
    "        x = self.dropout(self.act3(self.bn3(self.fc3(x))))\n",
    "        x = self.act4(self.fc4(x))               # ← Sigmoid 없음, 로짓\n",
    "        return x\n",
    "    \n",
    "model = Model().to(device)"
   ]
  },
  {
   "cell_type": "code",
   "execution_count": 46,
   "metadata": {},
   "outputs": [],
   "source": [
    "import torch.optim as optim\n",
    "import sklearn.metrics\n",
    "\n",
    "optimizer = optim.AdamW(model.parameters(), lr=1e-3, weight_decay=1e-4)\n",
    "criterion = nn.BCELoss()\n",
    "# criterion = nn.BCEWithLogitsLoss()\n",
    "metrics = sklearn.metrics.accuracy_score"
   ]
  },
  {
   "cell_type": "code",
   "execution_count": 47,
   "metadata": {},
   "outputs": [],
   "source": [
    "import numpy as np\n",
    "def vectorize_sequences(sequences, dimension=10000):\n",
    "    results = np.zeros((len(sequences), dimension))\n",
    "    for i, sequence in enumerate(sequences):\n",
    "        results[i, sequence] = 1.  # set specific indices of results[i] to 1s\n",
    "    return results"
   ]
  },
  {
   "cell_type": "markdown",
   "metadata": {},
   "source": [
    "### 4. Training & Validation"
   ]
  },
  {
   "cell_type": "code",
   "execution_count": 49,
   "metadata": {},
   "outputs": [
    {
     "name": "stdout",
     "output_type": "stream",
     "text": [
      "[01] loss: 0.114, acc: 0.9585, val_loss: 0.419, val_acc: 0.8670\n",
      "[02] loss: 0.067, acc: 0.9760, val_loss: 0.470, val_acc: 0.8662\n",
      "[03] loss: 0.050, acc: 0.9821, val_loss: 0.513, val_acc: 0.8676\n",
      "[04] loss: 0.035, acc: 0.9877, val_loss: 0.571, val_acc: 0.8682\n",
      "[05] loss: 0.031, acc: 0.9887, val_loss: 0.590, val_acc: 0.8654\n",
      "[06] loss: 0.032, acc: 0.9903, val_loss: 0.652, val_acc: 0.8602\n",
      "[07] loss: 0.030, acc: 0.9893, val_loss: 0.591, val_acc: 0.8686\n",
      "[08] loss: 0.020, acc: 0.9937, val_loss: 0.646, val_acc: 0.8644\n",
      "[09] loss: 0.017, acc: 0.9938, val_loss: 0.684, val_acc: 0.8662\n",
      "[10] loss: 0.018, acc: 0.9941, val_loss: 0.651, val_acc: 0.8680\n",
      "[11] loss: 0.016, acc: 0.9949, val_loss: 0.710, val_acc: 0.8658\n",
      "[12] loss: 0.014, acc: 0.9955, val_loss: 0.687, val_acc: 0.8688\n",
      "[13] loss: 0.009, acc: 0.9967, val_loss: 0.795, val_acc: 0.8596\n",
      "[14] loss: 0.009, acc: 0.9969, val_loss: 0.804, val_acc: 0.8698\n",
      "[15] loss: 0.010, acc: 0.9965, val_loss: 0.758, val_acc: 0.8650\n",
      "Finished Training\n"
     ]
    }
   ],
   "source": [
    "history = {'loss':[], 'acc':[], 'val_loss':[], 'val_acc':[]}\n",
    "\n",
    "for epoch in range(15):\n",
    "    running_loss = 0.0\n",
    "    running_correct = 0\n",
    "    running_total = 0\n",
    "\n",
    "    running_val_loss = 0.0\n",
    "    running_val_correct = 0\n",
    "    running_val_total = 0\n",
    "\n",
    "    # -------- train --------\n",
    "    model.train()\n",
    "    for i, (labels, inputs) in enumerate(train_dataloader, 0):\n",
    "        inputs = inputs.to(device)\n",
    "        labels = labels.to(device).view(-1, 1).float()\n",
    "\n",
    "        optimizer.zero_grad()\n",
    "        outputs = model(inputs)                 # (B,1) 확률 (Sigmoid 포함 모델 가정)\n",
    "        loss = criterion(outputs, labels)       # BCELoss 가정\n",
    "        loss.backward()\n",
    "        optimizer.step()\n",
    "\n",
    "        running_loss += loss.item()\n",
    "        running_correct += ((outputs > 0.5) == (labels > 0.5)).sum()\n",
    "        running_total += labels.size(0)\n",
    "\n",
    "    # -------- valid --------\n",
    "    model.eval()\n",
    "    with torch.no_grad():\n",
    "        for i, (labels, inputs) in enumerate(valid_dataloader, 0):\n",
    "            inputs = inputs.to(device)\n",
    "            labels = labels.to(device).view(-1, 1).float()\n",
    "\n",
    "            outputs = model(inputs)\n",
    "            loss = criterion(outputs, labels)\n",
    "\n",
    "            running_val_loss += loss.item()\n",
    "            running_val_correct += ((outputs > 0.5) == (labels > 0.5)).sum()\n",
    "            running_val_total += labels.size(0)\n",
    "\n",
    "    # 에폭 평균 지표\n",
    "    train_loss_epoch = running_loss / len(train_dataloader)\n",
    "    train_acc_epoch  = (running_correct / running_total).item()\n",
    "    val_loss_epoch   = running_val_loss / len(valid_dataloader)\n",
    "    val_acc_epoch    = (running_val_correct / running_val_total).item()\n",
    "\n",
    "    print(f'[{epoch + 1:02d}] '\n",
    "          f'loss: {train_loss_epoch:.3f}, acc: {train_acc_epoch:.4f}, '\n",
    "          f'val_loss: {val_loss_epoch:.3f}, val_acc: {val_acc_epoch:.4f}')\n",
    "\n",
    "    history['loss'].append(train_loss_epoch)\n",
    "    history['acc'].append(train_acc_epoch)\n",
    "    history['val_loss'].append(val_loss_epoch)\n",
    "    history['val_acc'].append(val_acc_epoch)\n",
    "\n",
    "print('Finished Training')"
   ]
  },
  {
   "cell_type": "markdown",
   "metadata": {},
   "source": [
    "### 5. Visualization"
   ]
  },
  {
   "cell_type": "code",
   "execution_count": 50,
   "metadata": {},
   "outputs": [
    {
     "data": {
      "image/png": "[encoded data removed]",
      "text/plain": [
       "<Figure size 640x480 with 1 Axes>"
      ]
     },
     "metadata": {},
     "output_type": "display_data"
    }
   ],
   "source": [
    "import matplotlib.pyplot as plt\n",
    "\n",
    "acc = history['acc']\n",
    "val_acc = history['val_acc']\n",
    "loss = history['loss']\n",
    "val_loss = history['val_loss']\n",
    "\n",
    "epochs = range(1, len(acc) + 1)\n",
    "\n",
    "# \"bo\" is for \"blue dot\"\n",
    "plt.plot(epochs, loss, 'bo', label='Training loss')\n",
    "# b is for \"solid blue line\"\n",
    "plt.plot(epochs, val_loss, 'b', label='Validation loss')\n",
    "plt.title('Training and validation loss')\n",
    "plt.xlabel('Epochs')\n",
    "plt.ylabel('Loss')\n",
    "plt.legend()\n",
    "\n",
    "plt.show()"
   ]
  },
  {
   "cell_type": "code",
   "execution_count": 51,
   "metadata": {},
   "outputs": [
    {
     "data": {
      "image/png": "[encoded data removed]",
      "text/plain": [
       "<Figure size 640x480 with 1 Axes>"
      ]
     },
     "metadata": {},
     "output_type": "display_data"
    }
   ],
   "source": [
    "plt.clf()   # clear figure\n",
    "acc_values = acc\n",
    "val_acc_values = val_acc\n",
    "\n",
    "plt.plot(epochs, acc, 'bo', label='Training acc')\n",
    "plt.plot(epochs, val_acc, 'b', label='Validation acc')\n",
    "plt.title('Training and validation accuracy')\n",
    "plt.xlabel('Epochs')\n",
    "plt.ylabel('Loss')\n",
    "plt.legend()\n",
    "\n",
    "plt.show()"
   ]
  },
  {
   "cell_type": "markdown",
   "metadata": {},
   "source": [
    "### 6. Test"
   ]
  },
  {
   "cell_type": "code",
   "execution_count": 53,
   "metadata": {},
   "outputs": [
    {
     "name": "stdout",
     "output_type": "stream",
     "text": [
      "Test Loss: 1.522, Test Accuracy: 0.8597\n"
     ]
    }
   ],
   "source": [
    "model.eval()\n",
    "running_test_loss = 0.0\n",
    "running_test_correct = 0\n",
    "running_test_total = 0\n",
    "\n",
    "is_cuda = (device.type == 'cuda')  # ← use_cuda 대신\n",
    "\n",
    "with torch.no_grad():\n",
    "    for labels, inputs in test_dataloader:\n",
    "        inputs = inputs.to(device, non_blocking=is_cuda).float()\n",
    "        labels = labels.to(device, non_blocking=is_cuda).view(-1, 1).float()\n",
    "\n",
    "        # FP16 안전: forward만 AMP, loss는 FP32\n",
    "        with torch.cuda.amp.autocast(enabled=is_cuda):\n",
    "            probs = model(inputs)  # (B,1), Sigmoid 포함 모델의 확률\n",
    "\n",
    "        with torch.cuda.amp.autocast(enabled=False):\n",
    "            loss = criterion(probs.float(), labels)  # BCELoss in FP32\n",
    "\n",
    "        bs = labels.size(0)\n",
    "        running_test_loss   += loss.item() * bs\n",
    "        running_test_correct += (probs >= 0.5).long().eq(labels.long()).sum().item()\n",
    "        running_test_total   += bs\n",
    "\n",
    "avg_test_loss = running_test_loss / running_test_total\n",
    "avg_test_acc  = running_test_correct / running_test_total\n",
    "print(f\"Test Loss: {avg_test_loss:.3f}, Test Accuracy: {avg_test_acc:.4f}\")"
   ]
  },
  {
   "cell_type": "markdown",
   "metadata": {},
   "source": [
    "### 1.2 Classifying newswires: a multi-class classification example\n",
    "---\n",
    "Instead of using *Reuters dataset* in Keras example, we use *AG News dataset*.\n"
   ]
  },
  {
   "cell_type": "markdown",
   "metadata": {},
   "source": [
    "### 1. Data Load"
   ]
  },
  {
   "cell_type": "code",
   "execution_count": 54,
   "metadata": {},
   "outputs": [
    {
     "name": "stdout",
     "output_type": "stream",
     "text": [
      "(3, \"Wall St. Bears Claw Back Into the Black (Reuters) Reuters - Short-sellers, Wall Street's dwindling\\\\band of ultra-cynics, are seeing green again.\")\n",
      "266\n"
     ]
    }
   ],
   "source": [
    "from torchtext.datasets import AG_NEWS\n",
    "\n",
    "trainset = AG_NEWS('./data', split='train')\n",
    "testset = AG_NEWS('./data', split='test')\n",
    "\n",
    "train_iter = iter(AG_NEWS(split='train'))\n",
    "print(next(train_iter))\n",
    "print(len(next(train_iter)[1])) # print the length of the sentence"
   ]
  },
  {
   "cell_type": "code",
   "execution_count": 55,
   "metadata": {},
   "outputs": [
    {
     "name": "stdout",
     "output_type": "stream",
     "text": [
      "[475, 21, 30, 5297]\n",
      "[475, 21, 30, 5297]\n",
      "3\n"
     ]
    }
   ],
   "source": [
    "from torchtext.data.utils import get_tokenizer\n",
    "from torchtext.vocab import build_vocab_from_iterator\n",
    "\n",
    "tokenizer = get_tokenizer('basic_english')\n",
    "\n",
    "def yield_tokens(data_iter):\n",
    "    for _, text in data_iter:\n",
    "        yield tokenizer(text)\n",
    "\n",
    "vocab = build_vocab_from_iterator(yield_tokens(trainset), specials=[\"<unk>\"], min_freq=50)\n",
    "vocab.set_default_index(vocab[\"<unk>\"])\n",
    "\n",
    "print(vocab(['here', 'is', 'an', 'example']))\n",
    "\n",
    "# text_pipeline = lambda x: vocab(tokenizer(x))\n",
    "# print(text_pipeline('here is an example'))\n",
    "\n",
    "text_pipeline = lambda x: vocab(tokenizer(x))\n",
    "label_pipeline = lambda x: int(x) - 1\n",
    "\n",
    "print(text_pipeline('here is an example'))\n",
    "print(label_pipeline('4'))"
   ]
  },
  {
   "cell_type": "markdown",
   "metadata": {},
   "source": [
    "### 2. Data Setting"
   ]
  },
  {
   "cell_type": "code",
   "execution_count": 56,
   "metadata": {},
   "outputs": [
    {
     "name": "stdout",
     "output_type": "stream",
     "text": [
      "cuda\n"
     ]
    }
   ],
   "source": [
    "import torch\n",
    "import numpy as np\n",
    "\n",
    "from torch.utils.data import DataLoader\n",
    "from torch.utils.data.dataset import random_split\n",
    "from torchtext.data.functional import to_map_style_dataset\n",
    "\n",
    "device = torch.device(\"cuda\" if torch.cuda.is_available() else \"cpu\")\n",
    "\n",
    "print(device)\n",
    "\n",
    "def vectorize_sequences(sequences, dimension=10000):\n",
    "    results = np.zeros((len(sequences), dimension))\n",
    "    for i, sequence in enumerate(sequences):\n",
    "        if sequence<10000:\n",
    "            results[i, sequence] = 1.  # set specific indices of results[i] to 1s\n",
    "    return results\n",
    "\n",
    "\n",
    "def collate_batch(batch):\n",
    "    label_list, text_list, offsets = [], [], [0]\n",
    "    for (_label, _text) in batch:\n",
    "         label_list.append(label_pipeline(_label))\n",
    "         processed_text = text_pipeline(_text)\n",
    "         processed_text = torch.tensor(vectorize_sequences(processed_text))\n",
    "         processed_text = torch.sum(processed_text, dim=0)\n",
    "         processed_text = torch.where(processed_text>0, torch.ones_like(processed_text), torch.zeros_like(processed_text))\n",
    "         text_list.append(processed_text.view(-1, 10000))\n",
    "         offsets.append(processed_text.size(0))\n",
    "    label_list = torch.tensor(label_list, dtype=torch.int64)\n",
    "    offsets = torch.tensor(offsets[:-1]).cumsum(dim=0)\n",
    "    text_list = torch.cat(text_list, dim=0).float()\n",
    "    return label_list.to(device), text_list.to(device)#, offsets.to(device)\n",
    "\n",
    "train_iter, test_iter = AG_NEWS()\n",
    "train_dataset = to_map_style_dataset(train_iter)\n",
    "test_dataset = to_map_style_dataset(test_iter)\n",
    "\n",
    "split_train_, split_valid_ = \\\n",
    "    random_split(train_dataset, [60000, 60000])\n",
    "\n",
    "train_dataloader = DataLoader(split_train_, batch_size=128,\n",
    "                              shuffle=True, collate_fn=collate_batch)\n",
    "valid_dataloader = DataLoader(split_valid_, batch_size=128,\n",
    "                              shuffle=False, collate_fn=collate_batch)\n",
    "test_dataloader = DataLoader(test_dataset, batch_size=128,\n",
    "                             shuffle=False, collate_fn=collate_batch)"
   ]
  },
  {
   "cell_type": "markdown",
   "metadata": {},
   "source": [
    "### 3. Building Model"
   ]
  },
  {
   "cell_type": "code",
   "execution_count": 60,
   "metadata": {},
   "outputs": [
    {
     "data": {
      "text/plain": [
       "Model(\n",
       "  (fc1): Linear(in_features=10000, out_features=1024, bias=True)\n",
       "  (act1): ReLU()\n",
       "  (fc2): Linear(in_features=1024, out_features=256, bias=True)\n",
       "  (act2): ReLU()\n",
       "  (fc3): Linear(in_features=256, out_features=64, bias=True)\n",
       "  (act3): ReLU()\n",
       "  (dropout): Dropout(p=0.3, inplace=False)\n",
       "  (fc4): Linear(in_features=64, out_features=4, bias=True)\n",
       "  (act4): ReLU()\n",
       ")"
      ]
     },
     "execution_count": 60,
     "metadata": {},
     "output_type": "execute_result"
    }
   ],
   "source": [
    "import torch.nn as nn\n",
    "\n",
    "class Model(nn.Module):\n",
    "    def __init__(self):\n",
    "        super().__init__()\n",
    "        self.fc1 = nn.Linear(10000, 1024)\n",
    "        self.act1 = nn.ReLU()\n",
    "\n",
    "        self.fc2 = nn.Linear(1024, 256)\n",
    "        self.act2 = nn.ReLU()\n",
    "\n",
    "        self.fc3 = nn.Linear(256, 64)\n",
    "        self.act3 = nn.ReLU()\n",
    "        self.dropout = nn.Dropout(0.3)\n",
    "\n",
    "        self.fc4 = nn.Linear(64, 4)\n",
    "        self.act4 = nn.ReLU()\n",
    "        self.dropout = nn.Dropout(0.3)\n",
    "        # there is no softmax function since softmax function will be automatically applied inside of the cross-entropy loss provided by pytorch\n",
    "\n",
    "\n",
    "    def forward(self, x):\n",
    "        x = self.act1(self.fc1(x))\n",
    "        x = self.act2(self.fc2(x))\n",
    "        x = self.act3(self.fc3(x))\n",
    "        x = self.fc4(x)\n",
    "\n",
    "        return x\n",
    "        \n",
    "model = Model()\n",
    "model.to(device)"
   ]
  },
  {
   "cell_type": "code",
   "execution_count": 61,
   "metadata": {},
   "outputs": [],
   "source": [
    "import torch.optim as optim\n",
    "\n",
    "optimizer = optim.RMSprop(params = model.parameters(), lr = 0.001, momentum=0.9)\n",
    "criterion = nn.CrossEntropyLoss()"
   ]
  },
  {
   "cell_type": "code",
   "execution_count": 63,
   "metadata": {},
   "outputs": [
    {
     "name": "stdout",
     "output_type": "stream",
     "text": [
      "[1,   469] loss: 0.179, accuracy: 0.9430, val_loss: 0.291, valid accuracy: 0.9094\n",
      "[2,   469] loss: 0.076, accuracy: 0.9768, val_loss: 0.385, valid accuracy: 0.9073\n",
      "[3,   469] loss: 0.036, accuracy: 0.9897, val_loss: 0.537, valid accuracy: 0.9033\n",
      "[4,   469] loss: 0.028, accuracy: 0.9932, val_loss: 0.708, valid accuracy: 0.8996\n",
      "[5,   469] loss: 0.025, accuracy: 0.9940, val_loss: 0.753, valid accuracy: 0.9068\n",
      "[6,   469] loss: 0.023, accuracy: 0.9948, val_loss: 0.743, valid accuracy: 0.9056\n",
      "[7,   469] loss: 0.024, accuracy: 0.9953, val_loss: 0.709, valid accuracy: 0.9019\n",
      "[8,   469] loss: 0.021, accuracy: 0.9958, val_loss: 0.879, valid accuracy: 0.8964\n",
      "[9,   469] loss: 0.021, accuracy: 0.9964, val_loss: 1.041, valid accuracy: 0.9059\n",
      "[10,   469] loss: 0.019, accuracy: 0.9966, val_loss: 1.044, valid accuracy: 0.9035\n",
      "[11,   469] loss: 0.017, accuracy: 0.9967, val_loss: 1.002, valid accuracy: 0.9001\n",
      "[12,   469] loss: 0.021, accuracy: 0.9962, val_loss: 1.347, valid accuracy: 0.9031\n",
      "[13,   469] loss: 0.016, accuracy: 0.9967, val_loss: 0.930, valid accuracy: 0.9009\n",
      "[14,   469] loss: 0.014, accuracy: 0.9973, val_loss: 1.514, valid accuracy: 0.9025\n",
      "[15,   469] loss: 0.016, accuracy: 0.9971, val_loss: 1.020, valid accuracy: 0.9018\n",
      "Finished Training\n"
     ]
    }
   ],
   "source": [
    "history = {'loss':[], 'acc':[], 'val_loss':[], 'val_acc':[]}\n",
    "\n",
    "for epoch in range(15):\n",
    "    running_loss = 0.0\n",
    "    running_correct = 0\n",
    "    running_total = 0\n",
    "\n",
    "    running_val_loss = 0.0\n",
    "    running_val_correct = 0\n",
    "    running_val_total = 0\n",
    "    for i, data in enumerate(train_dataloader):\n",
    "        # get the inputs; data is a list of [labels, inputs]\n",
    "        labels, inputs = data\n",
    "        inputs = inputs.to(device)\n",
    "        labels = labels.to(device)\n",
    "        # print(labels)\n",
    "        # print(inputs.shape)\n",
    "\n",
    "        # zero the parameter gradients\n",
    "        optimizer.zero_grad()\n",
    "\n",
    "        # forward + backward + optimize\n",
    "        outputs = model(inputs)\n",
    "        loss = criterion(outputs, labels)\n",
    "        loss.backward()\n",
    "        optimizer.step()\n",
    "\n",
    "        _, preds = outputs.max(dim=1)\n",
    "        # print(preds)\n",
    "        # print statistics\n",
    "        running_loss += loss.item()\n",
    "        running_correct += (preds == labels).sum()\n",
    "        running_total += labels.size(0)\n",
    "        # print(running_correct/running_total)\n",
    "\n",
    "\n",
    "    for i, data in enumerate(valid_dataloader):\n",
    "        labels, inputs = data\n",
    "        inputs = inputs.to(device)\n",
    "        labels = labels.to(device)\n",
    "\n",
    "        with torch.no_grad():\n",
    "            outputs = model(inputs)\n",
    "            loss = criterion(outputs, labels)\n",
    "            _, preds = outputs.max(dim=1)\n",
    "\n",
    "        running_val_loss += loss.item()\n",
    "        running_val_correct += (preds == labels).sum()          \n",
    "        running_val_total += labels.size(0)\n",
    "\n",
    "    print(f'[{epoch + 1}, {i + 1:5d}] loss: {running_loss / len(train_dataloader):.3f}, accuracy: {running_correct/running_total:.4f}, val_loss: {running_val_loss / len(valid_dataloader):.3f}, valid accuracy: {running_val_correct/running_val_total:.4f}')\n",
    "\n",
    "    history['loss'].append(running_loss / len(train_dataloader))\n",
    "    history['acc'].append((running_correct/running_total).item())\n",
    "    history['val_loss'].append(running_val_loss / len(valid_dataloader))\n",
    "    history['val_acc'].append((running_val_correct/running_val_total).item())\n",
    "\n",
    "    # print(outputs)\n",
    "print('Finished Training')"
   ]
  },
  {
   "cell_type": "code",
   "execution_count": 64,
   "metadata": {},
   "outputs": [
    {
     "data": {
      "image/png": "[encoded data removed]",
      "text/plain": [
       "<Figure size 640x480 with 1 Axes>"
      ]
     },
     "metadata": {},
     "output_type": "display_data"
    }
   ],
   "source": [
    "import matplotlib.pyplot as plt\n",
    "\n",
    "loss = history['loss']\n",
    "val_loss = history['val_loss']\n",
    "\n",
    "epochs = range(1, len(loss) + 1)\n",
    "\n",
    "plt.plot(epochs, loss, 'bo', label='Training loss')\n",
    "plt.plot(epochs, val_loss, 'b', label='Validation loss')\n",
    "plt.title('Training and validation loss')\n",
    "plt.xlabel('Epochs')\n",
    "plt.ylabel('Loss')\n",
    "plt.legend()\n",
    "\n",
    "plt.show()"
   ]
  },
  {
   "cell_type": "code",
   "execution_count": 65,
   "metadata": {},
   "outputs": [
    {
     "data": {
      "image/png": "[encoded data removed]",
      "text/plain": [
       "<Figure size 640x480 with 1 Axes>"
      ]
     },
     "metadata": {},
     "output_type": "display_data"
    }
   ],
   "source": [
    "plt.clf()   # clear figure\n",
    "\n",
    "acc = history['acc']\n",
    "val_acc = history['val_acc']\n",
    "\n",
    "plt.plot(epochs, acc, 'bo', label='Training acc')\n",
    "plt.plot(epochs, val_acc, 'b', label='Validation acc')\n",
    "plt.title('Training and validation accuracy')\n",
    "plt.xlabel('Epochs')\n",
    "plt.ylabel('Loss')\n",
    "plt.legend()\n",
    "\n",
    "plt.show()"
   ]
  },
  {
   "cell_type": "code",
   "execution_count": 68,
   "metadata": {},
   "outputs": [
    {
     "name": "stdout",
     "output_type": "stream",
     "text": [
      "test loss: 0.127, test accuracy: 0.8937\n"
     ]
    }
   ],
   "source": [
    "running_test_loss = 0\n",
    "running_test_correct = 0\n",
    "running_test_total = 0\n",
    "\n",
    "\n",
    "for i, data in enumerate(test_dataloader):\n",
    "    labels, inputs = data\n",
    "    inputs = inputs.to(device)\n",
    "    labels = labels.to(device)\n",
    "\n",
    "    with torch.no_grad():\n",
    "        outputs = model(inputs)\n",
    "        loss = criterion(outputs, labels)\n",
    "        _, preds = outputs.max(dim=1)\n",
    "\n",
    "    running_test_loss += loss.item()\n",
    "    running_test_correct += (preds == labels).sum()          \n",
    "    running_test_total += labels.size(0)\n",
    "\n",
    "print(f'test loss: {running_loss / len(test_dataloader):.3f}, test accuracy: {running_test_correct/running_test_total:.4f}')"
   ]
  },
  {
   "cell_type": "markdown",
   "metadata": {},
   "source": [
    "**Show prediction result**"
   ]
  },
  {
   "cell_type": "code",
   "execution_count": 67,
   "metadata": {},
   "outputs": [
    {
     "name": "stdout",
     "output_type": "stream",
     "text": [
      "tensor([-25.6510, -26.9854,   8.8930, -14.0606], device='cuda:0',\n",
      "       grad_fn=<SelectBackward0>) torch.Size([4])\n",
      "tensor([9.9478e-16, 2.6194e-16, 1.0000e+00, 1.0750e-10], device='cuda:0',\n",
      "       grad_fn=<SelectBackward0>) torch.Size([4])\n"
     ]
    }
   ],
   "source": [
    "data = next(iter(test_dataloader))\n",
    "labels, inputs = data\n",
    "inputs = inputs.to(device)\n",
    "labels = labels.to(device)\n",
    "\n",
    "predictions = model(inputs)\n",
    "print(predictions[0], predictions[0].shape)\n",
    "softmax_predictions = torch.softmax(predictions, dim=1)\n",
    "print(softmax_predictions[0], softmax_predictions[0].shape)"
   ]
  }
 ],
 "metadata": {
  "kernelspec": {
   "display_name": "Deeplearning",
   "language": "python",
   "name": "python3"
  },
  "language_info": {
   "codemirror_mode": {
    "name": "ipython",
    "version": 3
   },
   "file_extension": ".py",
   "mimetype": "text/x-python",
   "name": "python",
   "nbconvert_exporter": "python",
   "pygments_lexer": "ipython3",
   "version": "3.10.18"
  },
  "orig_nbformat": 4
 },
 "nbformat": 4,
 "nbformat_minor": 2
}
